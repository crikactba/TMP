{
 "cells": [
  {
   "cell_type": "markdown",
   "id": "35516eda",
   "metadata": {},
   "source": [
    "1) Cite 5 diferenças entre o Random Forest e o AdaBoost\n",
    "\n",
    "    a) O AdaBoost usa a técnica Boosting para gerar os modelos, enquanto o Random Forest usa o Bagging.\n",
    "    \n",
    "    b) O Random forest usa árvores completas, enquanto o AdaBoost usa stumps ou seja, árvores com um nó e duas folhas.\n",
    "    \n",
    "    c) No Random Forest todas as árvores têm o mesmo peso na resposta. No AdaBoost, o peso de cada árvore tem pesos diferentes.\n",
    "    \n",
    "    d) No Random Forest, o processo de geração das árvores é independente, enquanto o do Ada Boost é sequencial, uma arvore influencia na seguinte.\n",
    "    \n",
    "    e) Ao contrário do Random Forest, o AdaBoost cria cada árvore tentando corrigir os erros da anterior."
   ]
  },
  {
   "cell_type": "markdown",
   "id": "29c42605",
   "metadata": {},
   "source": [
    "2) Acesse o link Scikit-learn– adaboost , leia a explicação (traduza se for preciso) e crie um jupyter notebook contendo o exemplo do AdaBoost."
   ]
  },
  {
   "cell_type": "code",
   "execution_count": 1,
   "id": "e90b2c8c",
   "metadata": {},
   "outputs": [
    {
     "data": {
      "text/plain": [
       "0.9466666666666665"
      ]
     },
     "execution_count": 1,
     "metadata": {},
     "output_type": "execute_result"
    }
   ],
   "source": [
    "from sklearn.model_selection import cross_val_score\n",
    "from sklearn.datasets import load_iris\n",
    "from sklearn.ensemble import AdaBoostClassifier\n",
    "\n",
    "X, y = load_iris(return_X_y=True)\n",
    "clf = AdaBoostClassifier(n_estimators=100)\n",
    "scores = cross_val_score(clf, X, y, cv=5)\n",
    "scores.mean()"
   ]
  },
  {
   "cell_type": "markdown",
   "id": "2bd05468",
   "metadata": {},
   "source": [
    "3) Cite 5 Hyperparametros importantes no AdaBoost.\n",
    "\n",
    "    a) n_estimators: Número de modelos\n",
    "\n",
    "    b) learning_rate: Peso atribuido a cada modelo em cada iteração do Boosting.\n",
    "\n",
    "    c) base_estimator: Modelo que servirá de base para a construção do Ensemble. Por padrão, são árvores de decisão.\n",
    "\n",
    "    d) max_depth: profundidade máxima de cada árvore de decisão. O padrão é 1.\n",
    "\n",
    "    e) min_samples_split: mínimo de amostras em cada nó para fezer a divisão.\n"
   ]
  },
  {
   "cell_type": "markdown",
   "id": "ce7c2fe9",
   "metadata": {},
   "source": [
    "4) (Opcional) Utilize o GridSearch para encontrar os melhores hyperparametros para o conjunto de dados do exemplo (load_iris)"
   ]
  },
  {
   "cell_type": "code",
   "execution_count": 3,
   "id": "604848fd",
   "metadata": {},
   "outputs": [],
   "source": [
    "import warnings\n",
    "warnings.filterwarnings(\"ignore\")"
   ]
  },
  {
   "cell_type": "code",
   "execution_count": 4,
   "id": "b947622f",
   "metadata": {},
   "outputs": [
    {
     "data": {
      "text/plain": [
       "0.96"
      ]
     },
     "execution_count": 4,
     "metadata": {},
     "output_type": "execute_result"
    }
   ],
   "source": [
    "import numpy as np\n",
    "from sklearn.model_selection import GridSearchCV\n",
    "\n",
    "clf = AdaBoostClassifier()\n",
    "\n",
    "params = {\n",
    "    'n_estimators': np.arange(1, 202, 20),\n",
    "    'learning_rate': np.exp(np.arange(1, 20, 1))\n",
    "}\n",
    "\n",
    "grid = GridSearchCV(\n",
    "    estimator = clf,\n",
    "    param_grid = params,\n",
    "    scoring = 'accuracy',\n",
    "    cv = 5\n",
    ")\n",
    "\n",
    "grid.fit(X, y)\n",
    "\n",
    "grid.score(X, y)"
   ]
  },
  {
   "cell_type": "code",
   "execution_count": null,
   "id": "86e818cd",
   "metadata": {},
   "outputs": [],
   "source": []
  }
 ],
 "metadata": {
  "kernelspec": {
   "display_name": "Python 3 (ipykernel)",
   "language": "python",
   "name": "python3"
  },
  "language_info": {
   "codemirror_mode": {
    "name": "ipython",
    "version": 3
   },
   "file_extension": ".py",
   "mimetype": "text/x-python",
   "name": "python",
   "nbconvert_exporter": "python",
   "pygments_lexer": "ipython3",
   "version": "3.11.5"
  }
 },
 "nbformat": 4,
 "nbformat_minor": 5
}
